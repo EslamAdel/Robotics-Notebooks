{
 "cells": [
  {
   "cell_type": "markdown",
   "metadata": {},
   "source": [
    "## Exercises\n",
    "\n",
    "### Ex1 \n",
    "\n",
    "A single-link robot with a rotary joint is motionless at  = -7˚. It is desired to move the joint in a smooth manner to  = 62° in 5 seconds. Find the coefficients of a cubic which accomplishes this motion and brings the arm to rest at the goal. Write expressions for the position, velocity, and acceleration of the joint as a function of time."
   ]
  },
  {
   "cell_type": "markdown",
   "metadata": {},
   "source": [
    "**Solution**\n",
    "\n",
    "$$\n",
    "\\theta(t) = a_0 + a_1 t + a_2 t^2 + a_3 t^3\n",
    "$$\n",
    "$$\n",
    "\\dot{\\theta}(t) = a_1 +2 a_2 t + 3 a_3 t^2\n",
    "$$\n",
    "$$\n",
    "\\ddot{\\theta}(t) = 2 a_2 + 6 a_3 t\n",
    "$$\n",
    "\n",
    "With Initial conditions \n",
    "\n",
    "$\\theta_0 = -7$ and intial velocity $\\dot{\\theta} = 0$ \n",
    "\n",
    "And final angle $\\theta_f = 62$ and final time $t_f = 5$\n",
    "\n",
    "So:\n",
    "$$\n",
    " a_0 = \\theta_0\n",
    "$$\n",
    "$$\n",
    " a_1 = 0\n",
    "$$\n",
    "\n",
    "$$\n",
    " a_2 = \\frac{3}{t_f^2} (\\theta_f - \\theta_0)\n",
    "$$\n",
    "\n",
    "$$\n",
    "a_3 = \\frac{-2}{t_f^3} (\\theta_f - \\theta_0)\n",
    "$$"
   ]
  },
  {
   "cell_type": "code",
   "execution_count": 5,
   "metadata": {},
   "outputs": [
    {
     "name": "stdout",
     "output_type": "stream",
     "text": [
      "Theta  [-7, 0, 8.28, -1.104]\n",
      "Theta dot  [0, 16.56, -3.3120000000000003]\n",
      "Theta ddot  [16.56, -6.6240000000000006]\n"
     ]
    }
   ],
   "source": [
    "import numpy as np \n",
    "import matplotlib.pyplot as plt\n",
    "%matplotlib inline\n",
    "\n",
    "th_f = 62\n",
    "th_0 = -7\n",
    "t_f = 5\n",
    "\n",
    "# Coeffs\n",
    "a0 = -7\n",
    "a1 = 0\n",
    "a2 = (3/(t_f**2))*(th_f-th_0)\n",
    "a3 = (-2/(t_f**3))*(th_f-th_0)\n",
    "th_eq = [a0, a1, a2, a3]\n",
    "thdot_eq = [a1, 2*a2, 3*a3]\n",
    "thddot_eq = [2*a2, 6*a3]\n",
    "print(\"Theta \", th_eq)\n",
    "print(\"Theta dot \", thdot_eq)\n",
    "print(\"Theta ddot \", thddot_eq)"
   ]
  },
  {
   "cell_type": "markdown",
   "metadata": {},
   "source": [
    "So \n",
    "$$\n",
    "\\theta(t) = -7 +  8.28 t^2 -1.104 t^3\n",
    "$$\n",
    "$$\n",
    "\\dot{\\theta}(t) = 16.56 t -3.31 t^2\n",
    "$$\n",
    "$$\n",
    "\\ddot{\\theta}(t) = 16.56-6.62 t\n",
    "$$\n"
   ]
  },
  {
   "cell_type": "markdown",
   "metadata": {},
   "source": [
    "### Ex2\n",
    "\n",
    "A single-link robot with a rotary joint is motionless at Ɵ = 15 degrees. It is desired to move the joint in a smooth manner to Ɵ = 75 degrees in 3 seconds. Find the coefficients of a cubic that accomplishes this motion and brings the manipulator to rest at the goal. Plot the position, velocity, and acceleration of the joint as a function of time.\n",
    "\n",
    "**Solution**"
   ]
  },
  {
   "cell_type": "markdown",
   "metadata": {},
   "source": [
    "**Solution**\n",
    "\n",
    "$$\n",
    "\\theta(t) = a_0 + a_1 t + a_2 t^2 + a_3 t^3\n",
    "$$\n",
    "$$\n",
    "\\dot{\\theta}(t) = a_1 +2 a_2 t + 3 a_3 t^2\n",
    "$$\n",
    "$$\n",
    "\\ddot{\\theta}(t) = 2 a_2 + 6 a_3 t\n",
    "$$\n",
    "\n",
    "With Initial conditions \n",
    "\n",
    "$\\theta_0 = 15$ and intial velocity $\\dot{\\theta} = 0$ \n",
    "\n",
    "And final angle $\\theta_f = 75$ and final time $t_f = 3$\n",
    "\n",
    "So:\n",
    "$$\n",
    " a_0 = \\theta_0\n",
    "$$\n",
    "$$\n",
    " a_1 = \\dot{\\theta_0} = 0\n",
    "$$\n",
    "\n",
    "$$\n",
    " a_2 = \\frac{3}{t_f^2} (\\theta_f - \\theta_0)\n",
    "$$\n",
    "\n",
    "$$\n",
    "a_3 = \\frac{-2}{t_f^3} (\\theta_f - \\theta_0)\n",
    "$$"
   ]
  },
  {
   "cell_type": "code",
   "execution_count": 3,
   "metadata": {},
   "outputs": [
    {
     "name": "stdout",
     "output_type": "stream",
     "text": [
      "Theta  [15, 0, 20.0, -4.444444444444445]\n",
      "Theta dot  [0, 40.0, -13.333333333333334]\n",
      "Theta ddot  [40.0, -26.666666666666668]\n"
     ]
    }
   ],
   "source": [
    "th_f = 75\n",
    "th_0 = 15\n",
    "t_f = 3\n",
    "thdot_0 = 0\n",
    "\n",
    "# Coeffs\n",
    "a0 = th_0\n",
    "a1 = thdot_0\n",
    "a2 = (3/(t_f**2))*(th_f-th_0)\n",
    "a3 = (-2/(t_f**3))*(th_f-th_0)\n",
    "th_eq = [a0, a1, a2, a3]\n",
    "thdot_eq = [a1, 2*a2, 3*a3]\n",
    "thddot_eq = [2*a2, 6*a3]\n",
    "print(\"Theta \", th_eq)\n",
    "print(\"Theta dot \", thdot_eq)\n",
    "print(\"Theta ddot \", thddot_eq)"
   ]
  },
  {
   "cell_type": "markdown",
   "metadata": {},
   "source": [
    "So \n",
    "$$\n",
    "\\theta(t) = 15 +  20 t^2 -4.44 t^3\n",
    "$$\n",
    "$$\n",
    "\\dot{\\theta}(t) = 40 t - 13.33 t^2\n",
    "$$\n",
    "$$\n",
    "\\ddot{\\theta}(t) = 40-26.67 t\n",
    "$$\n"
   ]
  },
  {
   "cell_type": "markdown",
   "metadata": {},
   "source": [
    "### Ex4\n",
    "\n",
    "A single-link robot with a rotary joint is motionless at Ɵ = 15 degrees. It is desired to move the joint in a smooth manner to Ɵ = 75 degrees in 3 seconds. Find the coefficients of a cubic with a parabolic blends that accomplishes this motion and brings the manipulator to rest at the goal. Plot the position, velocity, and acceleration of the joint as a function of time.\n",
    "\n",
    "**Solution**"
   ]
  },
  {
   "cell_type": "code",
   "execution_count": 26,
   "metadata": {},
   "outputs": [
    {
     "name": "stdout",
     "output_type": "stream",
     "text": [
      "Theta  [15, 0, 20.0, -4.444444444444445]\n",
      "Theta dot  [0, 40.0, -13.333333333333334]\n",
      "Theta ddot  [40.0, -26.666666666666668]\n"
     ]
    }
   ],
   "source": [
    "import numpy as np\n",
    "import matplotlib.pyplot as plt\n",
    "%matplotlib inline\n",
    "th_f = 75\n",
    "th_0 = 15\n",
    "t_f = 3\n",
    "thdot_0 = 0\n",
    "\n",
    "# Coeffs\n",
    "a0 = th_0\n",
    "a1 = thdot_0\n",
    "a2 = (3/(t_f**2))*(th_f-th_0)\n",
    "a3 = (-2/(t_f**3))*(th_f-th_0)\n",
    "th_eq = [a0, a1, a2, a3]\n",
    "thdot_eq = [a1, 2*a2, 3*a3]\n",
    "thddot_eq = [2*a2, 6*a3]\n",
    "theta_func = lambda t: a0+a1*t + a2*(t**2) + a3 * (t**3)\n",
    "dotTheta_func = lambda t: a1 + 2*a2*t + 3*a3 * (t**2)\n",
    "ddotTheta_func = lambda t:  2*a2 + 6* a3 * t\n",
    "t = list(np.arange(0, t_f+0.1, 0.1))\n",
    "theta = [theta_func(i) for i in t]\n",
    "dot_theta = [dotTheta_func(i) for i in t]\n",
    "ddot_theta = [ddotTheta_func(i) for i in t]\n",
    "print(\"Theta \", th_eq)\n",
    "print(\"Theta dot \", thdot_eq)\n",
    "print(\"Theta ddot \", thddot_eq)"
   ]
  },
  {
   "cell_type": "code",
   "execution_count": 27,
   "metadata": {},
   "outputs": [
    {
     "data": {
      "text/plain": [
       "Text(0, 0.5, 'Angle (Deg)')"
      ]
     },
     "execution_count": 27,
     "metadata": {},
     "output_type": "execute_result"
    },
    {
     "data": {
      "image/png": "[encoded data removed]",
      "text/plain": [
       "<Figure size 432x288 with 1 Axes>"
      ]
     },
     "metadata": {
      "needs_background": "light"
     },
     "output_type": "display_data"
    }
   ],
   "source": [
    "plt.plot(t, theta)\n",
    "plt.xlabel('Time (Sec)')\n",
    "plt.ylabel('Angle (Deg)')"
   ]
  },
  {
   "cell_type": "code",
   "execution_count": 28,
   "metadata": {},
   "outputs": [
    {
     "data": {
      "text/plain": [
       "Text(0, 0.5, 'Velocity (Deg/Sec)')"
      ]
     },
     "execution_count": 28,
     "metadata": {},
     "output_type": "execute_result"
    },
    {
     "data": {
      "image/png": "[encoded data removed]",
      "text/plain": [
       "<Figure size 432x288 with 1 Axes>"
      ]
     },
     "metadata": {
      "needs_background": "light"
     },
     "output_type": "display_data"
    }
   ],
   "source": [
    "plt.plot(t, dot_theta)\n",
    "plt.xlabel('Time (Sec)')\n",
    "plt.ylabel('Velocity (Deg/Sec)')"
   ]
  },
  {
   "cell_type": "code",
   "execution_count": 29,
   "metadata": {},
   "outputs": [
    {
     "data": {
      "text/plain": [
       "Text(0, 0.5, 'Acceleration (Deg/Sec^2)')"
      ]
     },
     "execution_count": 29,
     "metadata": {},
     "output_type": "execute_result"
    },
    {
     "data": {
      "image/png": "[encoded data removed]",
      "text/plain": [
       "<Figure size 432x288 with 1 Axes>"
      ]
     },
     "metadata": {
      "needs_background": "light"
     },
     "output_type": "display_data"
    }
   ],
   "source": [
    "plt.plot(t, ddot_theta)\n",
    "plt.xlabel('Time (Sec)')\n",
    "plt.ylabel('Acceleration (Deg/Sec^2)')"
   ]
  },
  {
   "cell_type": "markdown",
   "metadata": {},
   "source": [
    "### Multi-Segment trajectories"
   ]
  },
  {
   "cell_type": "markdown",
   "metadata": {},
   "source": [
    "![](images/Selection_021.png)"
   ]
  },
  {
   "cell_type": "markdown",
   "metadata": {},
   "source": [
    "### Ex3\n",
    "\n",
    "Solve for the coefficients of two cubic equation that are connected in a two-segment spline with continuous acceleration at the intermediate via point. The initial angle Ɵ0 is the via point is Ɵv and the goal point is Ɵg. where Ɵ0=15 , Ɵv=30 , Ɵg=75 , TF1=3 and TF2=2.\n",
    "\n"
   ]
  },
  {
   "cell_type": "markdown",
   "metadata": {},
   "source": [
    "**Solution**\n",
    "\n",
    "**For first segment** \n",
    "$$\n",
    "\\theta_1(t) = a_{10} + a_{11} t + a_{12} t^2 + a_{13} t^3\n",
    "$$\n",
    "\n",
    "With Initial conditions \n",
    "\n",
    "$\\theta_{1} = 15$ and intial velocity $\\dot{\\theta}_1 = 0$ \n",
    "\n",
    "And final angle $\\theta_1 = \\theta_v = 30$ and final time $t_f=3$\n",
    "\n",
    "\n",
    "**And for second segment**\n",
    "\n",
    "$$\n",
    "\\theta_2(t) = a_{20} + a_{21} t + a_{22} t^2 + a_{23} t^3\n",
    "$$\n",
    "\n",
    "With Initial conditions \n",
    "\n",
    "$\\theta_{2} = \\theta_v = 30$ and intial velocity $\\dot{\\theta}_2 = \\dot{\\theta_{f1}}$ \n",
    "\n",
    "And final angle $\\theta_2 = \\theta_g = 75$ and final time $t_f=2$ and final velocity $\\dot{\\theta_{f2}} = 0$\n",
    "\n",
    "\n",
    "\n",
    "So:\n",
    "$$\n",
    " a_{10} = \\theta_0\n",
    "$$\n",
    "$$\n",
    " a_{11} = \\dot{ \\theta_0} = 0\n",
    "$$\n",
    "$$\n",
    "a_{12} = \\frac{12\\theta_v-3\\theta_g-9\\theta_0}{4t_{f1}^2}\n",
    "$$\n",
    "\n",
    "$$\n",
    "a_{13} = \\frac{-8\\theta_v+3\\theta_g+5\\theta_0}{4t_{f1}^3}\n",
    "$$\n",
    "\n",
    "$$\n",
    " a_{20} = \\theta_v\n",
    "$$\n",
    "$$\n",
    " a_{21} = \\frac{3\\theta_g - 3\\theta_0}{4t_{f2}}\n",
    "$$\n",
    "$$\n",
    "a_{22} = \\frac{-12\\theta_v+6\\theta_g+6\\theta_0}{4t_{f2}^2}\n",
    "$$\n",
    "\n",
    "$$\n",
    "a_{23} = \\frac{8\\theta_v-5\\theta_g-3\\theta_0}{4t_{f2}^3}\n",
    "$$\n",
    "\n"
   ]
  },
  {
   "cell_type": "code",
   "execution_count": 23,
   "metadata": {},
   "outputs": [
    {
     "name": "stdout",
     "output_type": "stream",
     "text": [
      "[15, 0, 0.0, 0.5555555555555556]\n",
      "[30, 22.5, 11.25, -5.625]\n"
     ]
    }
   ],
   "source": [
    "th_0 = 15\n",
    "th_v = 30\n",
    "th_g = 75\n",
    "\n",
    "t_f1 = 3\n",
    "t_f2 = 2\n",
    "\n",
    "# Coeffs\n",
    "a10 = th_0\n",
    "a11 = 0\n",
    "a12 = (12*th_v - 3*th_g - 9*th_0)/(4*t_f1**2)\n",
    "a13 = (-8*th_v + 3*th_g + 5*th_0)/(4*t_f1**3)\n",
    "\n",
    "a20 = th_v\n",
    "a21 = (3*th_g - 3*th_0)/(4*t_f2)\n",
    "a22 = (-12*th_v + 6*th_g + 6*th_0)/(4*t_f2**2)\n",
    "a23 = (8*th_v - 5*th_g - 3*th_0)/(4*t_f2**3)\n",
    "\n",
    "theta1_coeff = [a10, a11, a12, a13]\n",
    "theta2_coeff = [a20, a21, a22, a23]\n",
    "print(theta1_coeff)\n",
    "print(theta2_coeff)"
   ]
  },
  {
   "cell_type": "code",
   "execution_count": 32,
   "metadata": {},
   "outputs": [],
   "source": [
    "t1 = np.arange(0, 3.01, 0.1)\n",
    "t2 = np.arange(0, 2.01, 0.1)\n",
    "theta1_func = lambda t: a10+a11*t + a12*(t**2) + a13 * (t**3)\n",
    "theta2_func = lambda t: a20+a21*t + a22*(t**2) + a23 * (t**3)\n",
    "theta1 = [theta1_func(i) for i in t1] \n",
    "theta2 = [theta2_func(i) for i in t2] "
   ]
  },
  {
   "cell_type": "code",
   "execution_count": 34,
   "metadata": {},
   "outputs": [
    {
     "data": {
      "text/plain": [
       "[<matplotlib.lines.Line2D at 0x7f2fb7acd210>]"
      ]
     },
     "execution_count": 34,
     "metadata": {},
     "output_type": "execute_result"
    },
    {
     "data": {
      "image/png": "[encoded data removed]",
      "text/plain": [
       "<Figure size 432x288 with 1 Axes>"
      ]
     },
     "metadata": {
      "needs_background": "light"
     },
     "output_type": "display_data"
    }
   ],
   "source": [
    "plt.plot(t1, theta1)\n",
    "plt.plot(t_f1+t2, theta2)"
   ]
  },
  {
   "cell_type": "markdown",
   "metadata": {},
   "source": [
    "So \n",
    "\n",
    "$$\n",
    "\\theta_1(t) = 15 + 0.55t^3\n",
    "$$\n",
    "\n",
    "And \n",
    "\n",
    "$$\n",
    "\\theta_2(t) = 30 + 22.5 t + 11.25 t^2 - 5.625 t^3\n",
    "$$\n",
    "\n"
   ]
  },
  {
   "cell_type": "markdown",
   "metadata": {},
   "source": [
    "**What is the formula of ?**\n",
    "\n",
    "* $\\dot\\theta_1$ \n",
    "* $\\ddot\\theta_1$ \n",
    "* $\\dot\\theta_2$ \n",
    "* $\\ddot\\theta_2$ \n"
   ]
  }
 ],
 "metadata": {
  "kernelspec": {
   "display_name": "Python 3",
   "language": "python",
   "name": "python3"
  },
  "language_info": {
   "codemirror_mode": {
    "name": "ipython",
    "version": 3
   },
   "file_extension": ".py",
   "mimetype": "text/x-python",
   "name": "python",
   "nbconvert_exporter": "python",
   "pygments_lexer": "ipython3",
   "version": "3.7.4"
  }
 },
 "nbformat": 4,
 "nbformat_minor": 2
}
