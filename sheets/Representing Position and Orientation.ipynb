{
 "cells": [
  {
   "cell_type": "markdown",
   "metadata": {},
   "source": [
    "# Representing Position and Orientation"
   ]
  },
  {
   "cell_type": "markdown",
   "metadata": {},
   "source": [
    "## Exercies 2.1  \n",
    "A vector $A_p$ is rotated about $Z_A$ by $\\theta$ degrees and is subsequently rotated\n",
    "about $X_A$ by $\\phi$ degrees. Give the rotation matrix that accomplishes these rotations\n",
    "in the given order."
   ]
  },
  {
   "cell_type": "markdown",
   "metadata": {},
   "source": [
    "## Exercies  2.12\n",
    "A velocity vector is given by \n",
    "$$\n",
    "B_V = \n",
    "\\begin{bmatrix} \n",
    "10\\\\\n",
    "20\\\\ \n",
    "30\n",
    "\\end{bmatrix}\n",
    "$$\n",
    "\n",
    "Given \n",
    "$$\n",
    "A_{T_B} = \n",
    "\\begin{bmatrix} \n",
    "0.866 & -0.5 & 0 & 11 \\\\\n",
    "0.5 & 0.866 & 0 & -3\\\\\n",
    "0 & 0 & 1 & 9\\\\\n",
    "0 & 0 & 0 & 1 \n",
    "\\end{bmatrix}\n",
    "$$\n",
    "\n",
    "\n",
    "Compute $A_V$ \n"
   ]
  },
  {
   "cell_type": "markdown",
   "metadata": {},
   "source": [
    "## Exercies  2.13\n",
    "\n",
    "The following frame definitions are given as known:\n",
    "\n",
    "$$\n",
    "    U_{T_A} = \n",
    "\\begin{bmatrix} \n",
    "0.866 & -0.5 & 0 & 11 \\\\\n",
    "0.5 & 0.866 & 0 & -1\\\\\n",
    "0 & 0 & 1 & 8\\\\\n",
    "0 & 0 & 0 & 1 \n",
    "\\end{bmatrix}\n",
    "$$\n",
    "\n",
    "$$\n",
    "    B_{T_A} = \n",
    "\\begin{bmatrix} \n",
    "1 & 0 & 0 & 0 \\\\\n",
    "0 & 0.866 & -0.5 & 10\\\\\n",
    "0 & 0.5 & 0.866 & -20\\\\\n",
    "0 & 0 & 0 & 1 \n",
    "\\end{bmatrix}\n",
    "$$\n",
    "\n",
    "$$\n",
    "    C_{T_U} = \n",
    "\\begin{bmatrix} \n",
    "0.866 & -0.5 & 0 & -3 \\\\\n",
    "0.433 & 0.75 & -0.5 & -3\\\\\n",
    "0.25 & 0.433 & 0.866 & 3\\\\\n",
    "0 & 0 & 0 & 1 \n",
    "\\end{bmatrix}\n",
    "$$\n",
    "\n",
    "\n",
    "Compute $B_{T_C}$ \n"
   ]
  },
  {
   "cell_type": "markdown",
   "metadata": {},
   "source": [
    "## Exercise \n",
    "Define the following representations of orientation in 3D: rotation matrices, Euler angles, and quaternions. Mention two advantages and two disadvantages of each of these representations."
   ]
  },
  {
   "cell_type": "code",
   "execution_count": null,
   "metadata": {},
   "outputs": [],
   "source": []
  }
 ],
 "metadata": {
  "kernelspec": {
   "display_name": "Python 3",
   "language": "python",
   "name": "python3"
  },
  "language_info": {
   "codemirror_mode": {
    "name": "ipython",
    "version": 3
   },
   "file_extension": ".py",
   "mimetype": "text/x-python",
   "name": "python",
   "nbconvert_exporter": "python",
   "pygments_lexer": "ipython3",
   "version": "3.7.4"
  }
 },
 "nbformat": 4,
 "nbformat_minor": 2
}
